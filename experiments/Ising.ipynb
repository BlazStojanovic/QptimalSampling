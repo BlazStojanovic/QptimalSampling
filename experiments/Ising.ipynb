{
 "cells": [
  {
   "cell_type": "markdown",
   "metadata": {},
   "source": [
    "## Transverse Ising model in 2D - The FK #2 cost approach\n",
    "\n",
    "The basic components of this rudimentary example:\n",
    "- Variational approximation of the rates $\\Gamma$ with a CNN, $\\Gamma^{(v)} = \\operatorname{CNN}_v(s)$ \n",
    "- Generator of trajectories with fixed endpoints\n",
    "- Optimisation routine (gradient descent for now)\n",
    "- Loss implementation\n",
    "- All of the architecture necessary by the loss implementation\n"
   ]
  },
  {
   "cell_type": "code",
   "execution_count": 4,
   "metadata": {},
   "outputs": [],
   "source": [
    "# Jax imports\n",
    "import jax\n",
    "import jax.numpy as jnp\n",
    "from jax.experimental import stax\n",
    "from jax.experimental.stax import (BatchNorm, Conv, Dense, Flatten, Relu, LogSoftmax)\n",
    "\n",
    "import numpy as np\n",
    "import matplotlib.pyplot as plt"
   ]
  },
  {
   "cell_type": "code",
   "execution_count": 5,
   "metadata": {},
   "outputs": [],
   "source": [
    "\"\"\" Parameters of the example \"\"\"\n",
    "\n",
    "# Physical parameters\n",
    "dim = 6 # size of lattice of the Ising model\n",
    "J = 1\n",
    "g = 1\n",
    "T = 10 # full time\n",
    "\n",
    "# Model hyperparameters\n",
    "batch_size = 28\n",
    "\n",
    "# Optimisation parameters\n",
    "alpha = 1e-3\n",
    "\n"
   ]
  },
  {
   "cell_type": "markdown",
   "metadata": {},
   "source": [
    "### Implementation of the log RN loss.\n",
    "$$\n",
    "\\log \\left(\\frac{d P_{v}}{d P_{F K}}(k(t))\\right)=\\int V(k(t))+\\sum_{l \\neq k(t)}\\left(\\Gamma_{k(t) \\rightarrow l}-\\Gamma_{k(t) \\rightarrow l}^{(v)}\\right) d t+\\sum_{n} \\log \\left(\\frac{\\Gamma_{k^{(n)} \\rightarrow k^{(n+1)}}^{(v)}}{\\Gamma_{k^{(n)} \\rightarrow k^{(n+1)}}}\\right)-E_{0} T-\\log \\left(\\frac{\\varphi_{k^{(N)}}}{\\varphi_{k^{(0)}}}\\right)\n",
    "$$"
   ]
  },
  {
   "cell_type": "code",
   "execution_count": 6,
   "metadata": {},
   "outputs": [],
   "source": [
    "def loss(params, trajectory, J, g):\n",
    "    \n",
    "    logRN = 0.0\n",
    "    \n",
    "    # 1st term - Integral of V(k(t))\n",
    "    \n",
    "    # 2nd term\n",
    "    \n",
    "    # 3rd term\n",
    "    \n",
    "    return None\n",
    "    "
   ]
  },
  {
   "cell_type": "markdown",
   "metadata": {},
   "source": [
    "### Implementation of the Ising model helper functions\n",
    "The transverse field Ising model is the simplest model we will look at, the Hamiltonian\n",
    "$$\n",
    "H_{\\mathrm{Ising}}=-J \\sum_{\\langle i, j\\rangle} \\sigma_z^{i} \\sigma_z^{j}-g \\sum_{i} \\sigma_x^{i},\n",
    "$$\n",
    "is stoquastic if $g > 0$ and has a very simple passive transition rate matrix\n",
    "$$\n",
    "\\Gamma_{s \\rightarrow s^{\\prime}}=g.\n",
    "$$\n",
    "The potential is also rather simple\n",
    "$$\n",
    "\\begin{aligned} \n",
    "V(s) &=-\\sum_{s^{\\prime} \\neq s} \\Gamma_{s \\rightarrow s^{\\prime}}+H_{s s} \\\\ &=-g N-J \\sum_{\\langle i, j\\rangle} s_{i} s_{j} \n",
    "\\end{aligned}\n",
    "$$"
   ]
  },
  {
   "cell_type": "code",
   "execution_count": 7,
   "metadata": {},
   "outputs": [],
   "source": [
    "def V_ising(J):\n",
    "    \"\"\"\n",
    "    Returns the Ising potential for square lattice with periodic boundary conditions\n",
    "    \"\"\"\n",
    "    def pot(s, passive_rates):\n",
    "        z = s\n",
    "        zu = jnp.roll(z, 1, axis=-2)\n",
    "        zr = jnp.roll(x, -1, axis=-1)\n",
    "        \n",
    "        # first term\n",
    "        potential = (2*z - 1) * (2*zu - 1)\n",
    "        potential += (2*z - 1) * (2*zr - 1) \n",
    "        potential = -J*potential.sum(axis=(-1, -2))\n",
    "\n",
    "        #second term\n",
    "        potential -= passive_rates.sum(axis=(-1, -2, -3))\n",
    "        \n",
    "        return potential\n",
    "\n",
    "    return pot\n",
    "\n",
    "def passive_ising(g):\n",
    "    \"\"\"\n",
    "    Returns the passive rates for square Ising model with p.b.c's\n",
    "    \"\"\"\n",
    "    def passive_rates(s):\n",
    "        z = s.unsqueeze(dim=-3)\n",
    "        rates = g*jnp.ones_like(z)\n",
    "        return rates\n",
    "    \n",
    "    return passive_rates\n"
   ]
  },
  {
   "cell_type": "markdown",
   "metadata": {},
   "source": [
    "### Continuous time Markov Chain\n",
    "Using the holding time definition, where the transition probability is \n",
    "$$\n",
    "P_{s\\rightarrow s^\\prime} = \\frac{\\Gamma_{s\\rightarrow s^\\prime}}{\\sum_{s \\neq s^\\prime}\\Gamma_{s\\rightarrow s^\\prime}}\n",
    "$$\n",
    "and the transition time is distributed with exponential probability\n",
    "$$\n",
    "\\tau \\sim \\operatorname{Exp}\\left(\\sum_{x^{\\prime}} \\Gamma_{x \\rightarrow x^{\\prime}}\\right)\n",
    "$$"
   ]
  },
  {
   "cell_type": "code",
   "execution_count": null,
   "metadata": {},
   "outputs": [],
   "source": []
  },
  {
   "cell_type": "markdown",
   "metadata": {},
   "source": [
    "### Variational approximation to the transition rates\n",
    "Just implement the a CNN variant that respects p.b.c's. See:\n",
    "1) T. S. Cohen and M. Welling, “Group Equivariant Convolutional Networks”, arXiv:1602.07576 (2016).\n",
    "\n",
    "2) S. Dieleman, J. De Fauw, and K. Kavukcuoglu, “Exploiting Cyclic Symmetry in Convolutional Neural Networks”, arXiv:1602.02660 (2016)."
   ]
  },
  {
   "cell_type": "code",
   "execution_count": null,
   "metadata": {},
   "outputs": [],
   "source": []
  }
 ],
 "metadata": {
  "kernelspec": {
   "display_name": "qsampling",
   "language": "python",
   "name": "qsampling"
  },
  "language_info": {
   "codemirror_mode": {
    "name": "ipython",
    "version": 3
   },
   "file_extension": ".py",
   "mimetype": "text/x-python",
   "name": "python",
   "nbconvert_exporter": "python",
   "pygments_lexer": "ipython3",
   "version": "3.6.13"
  }
 },
 "nbformat": 4,
 "nbformat_minor": 5
}
